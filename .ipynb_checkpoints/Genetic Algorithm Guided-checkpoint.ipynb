{
 "cells": [
  {
   "cell_type": "code",
   "execution_count": null,
   "metadata": {
    "pycharm": {
     "is_executing": true
    }
   },
   "outputs": [],
   "source": [
    "import sys\n",
    "import pdb\n",
    "import pandas as pd\n",
    "from sklearn import tree\n",
    "from sklearn import ensemble\n",
    "import numpy as np\n",
    "import numpy.random as rn\n",
    "import matplotlib.pyplot as plt\n",
    "import os\n",
    "import urllib.request\n",
    "import io\n",
    "import zipfile\n",
    "import datetime\n",
    "## Reading Data\n"
   ]
  },
  {
   "cell_type": "code",
   "execution_count": null,
   "metadata": {
    "pycharm": {
     "name": "#%%\n"
    }
   },
   "outputs": [],
   "source": [
    "from functions import *\n",
    "DATA_URL = 'https://s3-us-west-2.amazonaws.com/telemanom/data.zip'\n",
    "\n",
    "Label_URL = 'https://github.com/khundman/telemanom/raw/master/labeled_anomalies.csv'\n",
    "\n",
    "df_label = pd.read_csv(Label_URL)\n",
    "\n",
    "MSL=df_label[df_label.spacecraft=='MSL']['chan_id']\n",
    "SMAP=df_label[df_label.spacecraft=='SMAP']['chan_id']\n",
    "train_signals=SMAP\n",
    "print(SMAP)"
   ]
  },
  {
   "cell_type": "code",
   "execution_count": null,
   "metadata": {
    "pycharm": {
     "name": "#%%\n"
    }
   },
   "outputs": [],
   "source": []
  }
 ],
 "metadata": {
  "kernelspec": {
   "display_name": "Python 3 (ipykernel)",
   "language": "python",
   "name": "python3"
  },
  "language_info": {
   "codemirror_mode": {
    "name": "ipython",
    "version": 2
   },
   "file_extension": ".py",
   "mimetype": "text/x-python",
   "name": "python",
   "nbconvert_exporter": "python",
   "pygments_lexer": "ipython2",
   "version": "2.7.6"
  }
 },
 "nbformat": 4,
 "nbformat_minor": 1
}
